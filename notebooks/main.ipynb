{
  "cells": [
    {
      "cell_type": "markdown",
      "id": "529ebb5e",
      "metadata": {
        "id": "529ebb5e"
      },
      "source": [
        "# Preprocessing the Data"
      ]
    },
    {
      "cell_type": "code",
      "execution_count": 48,
      "id": "f4333fdc",
      "metadata": {
        "id": "f4333fdc"
      },
      "outputs": [],
      "source": [
        "#Let us start with Importing packages\n",
        "import pandas as pd\n",
        "import matplotlib.pyplot as plt\n",
        "import seaborn as sns\n",
        "from imblearn.over_sampling import SMOTE\n",
        "from sklearn.model_selection import train_test_split\n",
        "from sklearn.preprocessing import StandardScaler\n",
        "from src.data_preprocessing import load_data, preprocess_data"
      ]
    },
    {
      "cell_type": "code",
      "execution_count": 49,
      "id": "e277a03e",
      "metadata": {
        "id": "e277a03e"
      },
      "outputs": [],
      "source": [
        "#Load and preprocess data\n",
        "df = load_data('data/creditcard.csv')\n",
        "df = preprocess_data(df)\n",
        "df = df.dropna()\n",
        "df = add_features(df)"
      ]
    },
    {
      "cell_type": "markdown",
      "id": "d5e0fb4c",
      "metadata": {
        "id": "d5e0fb4c"
      },
      "source": [
        "# Model Training and Evaluation"
      ]
    },
    {
      "cell_type": "code",
      "execution_count": 50,
      "id": "5d549a3d",
      "metadata": {
        "id": "5d549a3d"
      },
      "outputs": [],
      "source": [
        "#Importing required packages\n",
        "from imblearn.over_sampling import SMOTE\n",
        "from sklearn.model_selection import train_test_split\n",
        "from sklearn.linear_model import LogisticRegression\n",
        "from sklearn.ensemble import RandomForestClassifier\n",
        "from xgboost import XGBClassifier\n",
        "from sklearn.metrics import classification_report, confusion_matrix"
      ]
    },
    {
      "source": [
        "#Train/Test Split the Data\n",
        "X = df.drop('Class', axis=1)\n",
        "y = df['Class']\n",
        "\n",
        "X_train, X_test, y_train, y_test = train_test_split(\n",
        "    X, y, test_size=0.2, stratify=y, random_state=42\n",
        ")\n",
        "\n",
        "# Print class distribution\n",
        "print(\"Training set class distribution:\\n\", y_train.value_counts())\n",
        "print(\"Test set class distribution:\\n\", y_test.value_counts())"
      ],
      "cell_type": "code",
      "metadata": {
        "colab": {
          "base_uri": "https://localhost:8080/"
        },
        "id": "Bo-5rEGMtcXO",
        "outputId": "274bc16b-f49c-4800-fc47-167c7309011e"
      },
      "id": "Bo-5rEGMtcXO",
      "execution_count": 51,
      "outputs": [
        {
          "output_type": "stream",
          "name": "stdout",
          "text": [
            "Training set class distribution:\n",
            " Class\n",
            "0.0    4776\n",
            "1.0       2\n",
            "Name: count, dtype: int64\n",
            "Test set class distribution:\n",
            " Class\n",
            "0.0    1194\n",
            "1.0       1\n",
            "Name: count, dtype: int64\n"
          ]
        }
      ]
    },
    {
      "cell_type": "code",
      "source": [
        "# Apply SMOTE\n",
        "smote = SMOTE(random_state=42, k_neighbors=1)\n",
        "X_resampled, y_resampled = smote.fit_resample(X_train, y_train)"
      ],
      "metadata": {
        "id": "FRnX4OKjy-Hq"
      },
      "id": "FRnX4OKjy-Hq",
      "execution_count": 52,
      "outputs": []
    },
    {
      "cell_type": "code",
      "execution_count": 53,
      "id": "a58e3abc",
      "metadata": {
        "id": "a58e3abc"
      },
      "outputs": [],
      "source": [
        "# Model training\n",
        "from sklearn.linear_model import LogisticRegression\n",
        "from sklearn.ensemble import RandomForestClassifier\n",
        "from xgboost import XGBClassifier\n",
        "from sklearn.metrics import classification_report, confusion_matrix, roc_auc_score, average_precision_score"
      ]
    },
    {
      "cell_type": "code",
      "source": [
        "# Evaluation function\n",
        "def evaluate_model(model, X_test, y_test):\n",
        "    y_pred = model.predict(X_test)\n",
        "    if hasattr(model, \"predict_proba\"):\n",
        "        y_proba = model.predict_proba(X_test)[:, 1]\n",
        "    else:\n",
        "        y_proba = model.decision_function(X_test)\n",
        "\n",
        "    print(confusion_matrix(y_test, y_pred))\n",
        "    print(classification_report(y_test, y_pred, zero_division=0))\n",
        "    print(\"ROC AUC Score:\", roc_auc_score(y_test, y_proba))\n",
        "    print(\"Average Precision Score (PR-AUC):\", average_precision_score(y_test, y_proba))"
      ],
      "metadata": {
        "id": "aVUZBFlczQdX"
      },
      "id": "aVUZBFlczQdX",
      "execution_count": 54,
      "outputs": []
    },
    {
      "cell_type": "code",
      "source": [
        "# Logistic Regression\n",
        "lr = LogisticRegression()\n",
        "lr.fit(X_resampled, y_resampled)\n",
        "print(\"\\nTraining: Logistic Regression\")\n",
        "evaluate_model(lr, X_test, y_test)"
      ],
      "metadata": {
        "colab": {
          "base_uri": "https://localhost:8080/"
        },
        "id": "A_qBV5bczVxb",
        "outputId": "27ab89ae-79db-412e-e107-141dc9bc8107"
      },
      "id": "A_qBV5bczVxb",
      "execution_count": 55,
      "outputs": [
        {
          "output_type": "stream",
          "name": "stdout",
          "text": [
            "\n",
            "Training: Logistic Regression\n",
            "[[1193    1]\n",
            " [   1    0]]\n",
            "              precision    recall  f1-score   support\n",
            "\n",
            "         0.0       1.00      1.00      1.00      1194\n",
            "         1.0       0.00      0.00      0.00         1\n",
            "\n",
            "    accuracy                           1.00      1195\n",
            "   macro avg       0.50      0.50      0.50      1195\n",
            "weighted avg       1.00      1.00      1.00      1195\n",
            "\n",
            "ROC AUC Score: 0.9623115577889447\n",
            "Average Precision Score (PR-AUC): 0.021739130434782608\n"
          ]
        }
      ]
    },
    {
      "cell_type": "code",
      "source": [
        "# Random Forest\n",
        "rf = RandomForestClassifier()\n",
        "rf.fit(X_resampled, y_resampled)\n",
        "print(\"\\nTraining: Random Forest\")\n",
        "evaluate_model(rf, X_test, y_test)"
      ],
      "metadata": {
        "colab": {
          "base_uri": "https://localhost:8080/"
        },
        "id": "AY1Wkfn7zbaw",
        "outputId": "2e14ef13-7a9d-4d03-e1ee-58a51cece9c5"
      },
      "id": "AY1Wkfn7zbaw",
      "execution_count": 56,
      "outputs": [
        {
          "output_type": "stream",
          "name": "stdout",
          "text": [
            "\n",
            "Training: Random Forest\n",
            "[[1194    0]\n",
            " [   1    0]]\n",
            "              precision    recall  f1-score   support\n",
            "\n",
            "         0.0       1.00      1.00      1.00      1194\n",
            "         1.0       0.00      0.00      0.00         1\n",
            "\n",
            "    accuracy                           1.00      1195\n",
            "   macro avg       0.50      0.50      0.50      1195\n",
            "weighted avg       1.00      1.00      1.00      1195\n",
            "\n",
            "ROC AUC Score: 0.9958123953098827\n",
            "Average Precision Score (PR-AUC): 0.14285714285714285\n"
          ]
        }
      ]
    },
    {
      "cell_type": "code",
      "source": [
        "# XGBoost\n",
        "xgb = XGBClassifier(use_label_encoder=False, eval_metric='logloss')\n",
        "xgb.fit(X_resampled, y_resampled)\n",
        "print(\"\\nTraining: XGBoost\")\n",
        "evaluate_model(xgb, X_test, y_test)"
      ],
      "metadata": {
        "colab": {
          "base_uri": "https://localhost:8080/"
        },
        "id": "juZl3CkMzclr",
        "outputId": "df3cd2c8-14d6-4a9a-a454-5ca070e18206"
      },
      "id": "juZl3CkMzclr",
      "execution_count": 57,
      "outputs": [
        {
          "output_type": "stream",
          "name": "stdout",
          "text": [
            "\n",
            "Training: XGBoost\n",
            "[[1194    0]\n",
            " [   1    0]]\n",
            "              precision    recall  f1-score   support\n",
            "\n",
            "         0.0       1.00      1.00      1.00      1194\n",
            "         1.0       0.00      0.00      0.00         1\n",
            "\n",
            "    accuracy                           1.00      1195\n",
            "   macro avg       0.50      0.50      0.50      1195\n",
            "weighted avg       1.00      1.00      1.00      1195\n",
            "\n",
            "ROC AUC Score: 0.9472361809045227\n",
            "Average Precision Score (PR-AUC): 0.015625\n"
          ]
        },
        {
          "output_type": "stream",
          "name": "stderr",
          "text": [
            "/usr/local/lib/python3.11/dist-packages/xgboost/core.py:158: UserWarning: [10:53:02] WARNING: /workspace/src/learner.cc:740: \n",
            "Parameters: { \"use_label_encoder\" } are not used.\n",
            "\n",
            "  warnings.warn(smsg, UserWarning)\n"
          ]
        }
      ]
    }
  ],
  "metadata": {
    "kernelspec": {
      "display_name": "Python 3",
      "language": "python",
      "name": "python3"
    },
    "language_info": {
      "codemirror_mode": {
        "name": "ipython",
        "version": 3
      },
      "file_extension": ".py",
      "mimetype": "text/x-python",
      "name": "python",
      "nbconvert_exporter": "python",
      "pygments_lexer": "ipython3",
      "version": "3.11.9"
    },
    "colab": {
      "provenance": []
    }
  },
  "nbformat": 4,
  "nbformat_minor": 5
}